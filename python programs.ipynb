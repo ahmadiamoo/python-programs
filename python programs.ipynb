{
 "cells": [
  {
   "cell_type": "markdown",
   "id": "f49ab607-7743-407e-be69-5106244942b2",
   "metadata": {},
   "source": [
    "Program 1: A program to do some arithmatical operations by two numbers user input"
   ]
  },
  {
   "cell_type": "code",
   "execution_count": 24,
   "id": "93c48cfa-cf7e-4c85-a8c8-67ab2bb96efb",
   "metadata": {},
   "outputs": [
    {
     "name": "stdin",
     "output_type": "stream",
     "text": [
      "Please enter the first number:  34\n",
      "Please enter the second number:  0\n"
     ]
    },
    {
     "name": "stdout",
     "output_type": "stream",
     "text": [
      "Cannot divide a number by zero.\n",
      "sum: 12.0\n",
      "mul: 0.0\n",
      "substraction: 12.0\n",
      "division: None\n"
     ]
    }
   ],
   "source": [
    "def division():\n",
    "    number1 = float(input(\"Please enter the first number: \")) \n",
    "    number2 = float(input(\"Please enter the second number: \"))     \n",
    "    \n",
    "    try:\n",
    "        if number2 == 0:\n",
    "            raise ZeroDivisionError(\"Cannot divide a number by zero.\")  \n",
    "        \n",
    "        div = round(number1 / number2, 2)  \n",
    "        return div\n",
    "        \n",
    "    except ZeroDivisionError as e:  \n",
    "        print(e)\n",
    "        return None  \n",
    "    \n",
    "sum = number1 + number2\n",
    "mul = number1 * number2\n",
    "sub = number1 - number2\n",
    "div = division()\n",
    " \n",
    "print(f\"sum: {sum}\")\n",
    "print(f\"mul: {mul}\")\n",
    "print(f\"substraction: {sub}\")\n",
    "print(f\"division: {div}\")"
   ]
  },
  {
   "cell_type": "code",
   "execution_count": null,
   "id": "99071c00-b3a6-4cec-a17d-98c7faa4fd53",
   "metadata": {},
   "outputs": [],
   "source": []
  },
  {
   "cell_type": "markdown",
   "id": "5b97820d-dbf7-450d-84aa-8a5888c38012",
   "metadata": {},
   "source": [
    "Program 2: A program that get some numbers and return count and sum of those"
   ]
  },
  {
   "cell_type": "code",
   "execution_count": 25,
   "id": "01494ca3-0d41-4029-9c6b-f434b0bd0f63",
   "metadata": {},
   "outputs": [
    {
     "name": "stdin",
     "output_type": "stream",
     "text": [
      "Enter a number or 'q' to quit:  2\n",
      "Enter a number or 'q' to quit:  5\n",
      "Enter a number or 'q' to quit:  q\n"
     ]
    },
    {
     "name": "stdout",
     "output_type": "stream",
     "text": [
      "\n",
      " The total sum of your 2 inputs is: 7.0\n"
     ]
    }
   ],
   "source": [
    "def add_function():\n",
    "    total = 0  \n",
    "    count = 0\n",
    "    \n",
    "    while True:\n",
    "        user_input = input(\"Enter a number or 'q' to quit: \")\n",
    "        \n",
    "        if user_input.lower() == 'q':\n",
    "            break  \n",
    "        \n",
    "        try:\n",
    "            number = float(user_input)  \n",
    "            total += number\n",
    "            count += 1\n",
    "        except ValueError: # to make sure your input is correct\n",
    "            print(\"Please enter a valid number or 'q' to quit.\")\n",
    "    \n",
    "    return total , count\n",
    "\n",
    "# Call the function and print the result\n",
    "result, count_of_inputs = add_function()\n",
    "print(f\"\\n The total sum of your {count_of_inputs} inputs is: {result}\")"
   ]
  },
  {
   "cell_type": "markdown",
   "id": "34cf9fb7-d65e-4e78-bd9c-82ef8f908ae6",
   "metadata": {},
   "source": []
  },
  {
   "cell_type": "markdown",
   "id": "7db0d523-ba7b-43d1-86c0-36e03cc1f4ea",
   "metadata": {},
   "source": [
    "Program 3: A program to swaped two variable without defining extra variable"
   ]
  },
  {
   "cell_type": "code",
   "execution_count": 12,
   "id": "a8f57e85-9f1d-4b52-976c-812ebbfefe0b",
   "metadata": {},
   "outputs": [
    {
     "name": "stdin",
     "output_type": "stream",
     "text": [
      "Please inter the first:  12\n",
      "Please inter the second:  76\n"
     ]
    },
    {
     "name": "stdout",
     "output_type": "stream",
     "text": [
      "Before 12 , 76\n",
      "After swaping 76 , 12\n"
     ]
    }
   ],
   "source": [
    "var1 = input(\"Please inter the first: \")\n",
    "var2 = input(\"Please inter the second: \")\n",
    "\n",
    "print(f\"Before {var1} , {var2}\")\n",
    "\n",
    "var1, var2 = var2, var1\n",
    "\n",
    "print(f\"After swaping {var1} , {var2}\")\n"
   ]
  },
  {
   "cell_type": "code",
   "execution_count": null,
   "id": "c678b591-3e8d-4e18-ae34-b6ec97824a2e",
   "metadata": {},
   "outputs": [],
   "source": []
  },
  {
   "cell_type": "markdown",
   "id": "2370c721-065e-4db8-95c3-1e4c2874c5b3",
   "metadata": {},
   "source": [
    "Program 4: A program to caculate area and perimeter of some shapes"
   ]
  },
  {
   "cell_type": "code",
   "execution_count": 30,
   "id": "f798e703-14dd-4c6d-a25d-18d6f03f7c5a",
   "metadata": {},
   "outputs": [
    {
     "name": "stdin",
     "output_type": "stream",
     "text": [
      "Enter the name of the shape (circle, square, triangle, ellipse):  circle\n",
      "Enter the radius of the circle:  56\n"
     ]
    },
    {
     "name": "stdout",
     "output_type": "stream",
     "text": [
      "The area of the circle is: 9852.03\n",
      "The perimeter (circumference) of the circle is: 351.86\n"
     ]
    }
   ],
   "source": [
    "import math\n",
    "\n",
    "def calculate_area_and_perimeter():\n",
    "    shape = input(\"Enter the name of the shape (circle, square, triangle, ellipse): \").lower()\n",
    "\n",
    "    if shape == 'circle':\n",
    "        radius = float(input(\"Enter the radius of the circle: \"))\n",
    "        area = math.pi * radius ** 2\n",
    "        perimeter = 2 * math.pi * radius\n",
    "        print(f\"The area of the circle is: {round(area, 2)}\")\n",
    "        print(f\"The perimeter (circumference) of the circle is: {round(perimeter, 2)}\")\n",
    "\n",
    "    elif shape == 'square':\n",
    "        side = float(input(\"Enter the side length of the square: \"))\n",
    "        area = side ** 2\n",
    "        perimeter = 4 * side\n",
    "        print(f\"The area of the square is: {round(area, 2)}\")\n",
    "        print(f\"The perimeter of the square is: {round(perimeter, 2)}\")\n",
    "\n",
    "    elif shape == 'triangle':\n",
    "        base = float(input(\"Enter the base length of the triangle: \"))\n",
    "        height = float(input(\"Enter the height of the triangle: \"))\n",
    "        side_a = float(input(\"Enter the first side length of the triangle: \"))\n",
    "        side_b = float(input(\"Enter the second side length of the triangle: \"))\n",
    "        side_c = float(input(\"Enter the third side length of the triangle: \"))\n",
    "        area = 0.5 * base * height\n",
    "        perimeter = side_a + side_b + side_c\n",
    "        print(f\"The area of the triangle is: {round(area, 2)}\")\n",
    "        print(f\"The perimeter of the triangle is: {round(perimeter, 2)}\")\n",
    "\n",
    "    elif shape == 'ellipse':\n",
    "        major_axis = float(input(\"Enter the major axis of the ellipse: \"))\n",
    "        minor_axis = float(input(\"Enter the minor axis of the ellipse: \"))\n",
    "        area = math.pi * major_axis * minor_axis\n",
    "        # Approximation for ellipse perimeter using Ramanujan's formula\n",
    "        perimeter = math.pi * (3*(major_axis + minor_axis) - math.sqrt((3*major_axis + minor_axis)*(major_axis + 3*minor_axis)))\n",
    "        print(f\"The area of the ellipse is: {round(area, 2)}\")\n",
    "        print(f\"The approximate perimeter of the ellipse is: {round(perimeter, 2)}\")\n",
    "\n",
    "    else:\n",
    "        print(\"Invalid shape entered. Please choose circle, square, triangle, or ellipse.\")\n",
    "\n",
    "# Call the function to calculate area and perimeter\n",
    "calculate_area_and_perimeter()\n"
   ]
  },
  {
   "cell_type": "code",
   "execution_count": null,
   "id": "5bff2721-5582-4bc0-891b-8e71c4cf1628",
   "metadata": {},
   "outputs": [],
   "source": []
  },
  {
   "cell_type": "code",
   "execution_count": null,
   "id": "93903193-78ff-4b09-a532-93601c0b130d",
   "metadata": {},
   "outputs": [],
   "source": [
    "Program 5: Get all of inputs through a form to do caculation"
   ]
  },
  {
   "cell_type": "code",
   "execution_count": 52,
   "id": "7ccb850a-d56d-4e19-b97d-4cdd015cdbf1",
   "metadata": {},
   "outputs": [
    {
     "name": "stderr",
     "output_type": "stream",
     "text": [
      "2024-09-06 09:00:51.198 python[77613:3510882] Warning: Expected min height of view: (<NSButton: 0x7fc4b06dc040>) to be less than or equal to 30 but got a height of 32.000000. This error will be logged once per view in violation.\n"
     ]
    }
   ],
   "source": [
    "import tkinter as tk\n",
    "from tkinter import messagebox\n",
    "import math\n",
    "\n",
    "# Functions to calculate area and perimeter\n",
    "def circle_area_perimeter(radius):\n",
    "    area = math.pi * radius ** 2\n",
    "    perimeter = 2 * math.pi * radius\n",
    "    return area, perimeter\n",
    "\n",
    "def square_area_perimeter(side):\n",
    "    area = side ** 2\n",
    "    perimeter = 4 * side\n",
    "    return area, perimeter\n",
    "\n",
    "def triangle_area_perimeter(base, height, side_a, side_b, side_c):\n",
    "    area = 0.5 * base * height\n",
    "    perimeter = side_a + side_b + side_c\n",
    "    return area, perimeter\n",
    "\n",
    "def ellipse_area_perimeter(major_axis, minor_axis):\n",
    "    area = math.pi * major_axis * minor_axis\n",
    "    # Approximation for ellipse perimeter using Ramanujan's formula\n",
    "    perimeter = math.pi * (3*(major_axis + minor_axis) - math.sqrt((3*major_axis + minor_axis)*(major_axis + 3*minor_axis)))\n",
    "    return area, perimeter\n",
    "\n",
    "# Functions to handle button click events\n",
    "def calculate_circle():\n",
    "    radius = float(entry1.get())\n",
    "    area, perimeter = circle_area_perimeter(radius)\n",
    "    result.set(f\"Area: {round(area, 2)}, Perimeter: {round(perimeter, 2)}\")\n",
    "\n",
    "def calculate_square():\n",
    "    side = float(entry1.get())\n",
    "    area, perimeter = square_area_perimeter(side)\n",
    "    result.set(f\"Area: {round(area, 2)}, Perimeter: {round(perimeter, 2)}\")\n",
    "\n",
    "def calculate_triangle():\n",
    "    base = float(entry1.get())\n",
    "    height = float(entry2.get())\n",
    "    side_a = float(entry3.get())\n",
    "    side_b = float(entry4.get())\n",
    "    side_c = float(entry5.get())\n",
    "    area, perimeter = triangle_area_perimeter(base, height, side_a, side_b, side_c)\n",
    "    result.set(f\"Area: {round(area, 2)}, Perimeter: {round(perimeter, 2)}\")\n",
    "\n",
    "def calculate_ellipse():\n",
    "    major_axis = float(entry1.get())\n",
    "    minor_axis = float(entry2.get())\n",
    "    area, perimeter = ellipse_area_perimeter(major_axis, minor_axis)\n",
    "    result.set(f\"Area: {round(area, 2)}, Perimeter: {round(perimeter, 2)}\")\n",
    "\n",
    "# Main GUI\n",
    "root = tk.Tk()\n",
    "root.title(\"Shape Area and Perimeter Calculator\")\n",
    "\n",
    "# Option menu to select the shape\n",
    "label = tk.Label(root, text=\"Select a shape:\")\n",
    "label.pack()\n",
    "\n",
    "shape_var = tk.StringVar(root)\n",
    "shape_var.set(\"Circle\")  # default value\n",
    "\n",
    "shapes_menu = tk.OptionMenu(root, shape_var, \"Circle\", \"Square\", \"Triangle\", \"Ellipse\")\n",
    "shapes_menu.pack()\n",
    "\n",
    "# Labels and Entry fields for inputs\n",
    "label1 = tk.Label(root, text=\"Enter Dimension 1 (e.g., radius for circle or side for square):\")\n",
    "label1.pack()\n",
    "entry1 = tk.Entry(root)\n",
    "entry1.pack()\n",
    "\n",
    "label2 = tk.Label(root, text=\"Enter Dimension 2 (if applicable):\")\n",
    "label2.pack()\n",
    "entry2 = tk.Entry(root)\n",
    "entry2.pack()\n",
    "\n",
    "label3 = tk.Label(root, text=\"Enter Dimension 3 (if applicable):\")\n",
    "label3.pack()\n",
    "entry3 = tk.Entry(root)\n",
    "entry3.pack()\n",
    "\n",
    "label4 = tk.Label(root, text=\"Enter Dimension 4 (if applicable):\")\n",
    "label4.pack()\n",
    "entry4 = tk.Entry(root)\n",
    "entry4.pack()\n",
    "\n",
    "label5 = tk.Label(root, text=\"Enter Dimension 5 (if applicable):\")\n",
    "label5.pack()\n",
    "entry5 = tk.Entry(root)\n",
    "entry5.pack()\n",
    "\n",
    "# Result label\n",
    "result = tk.StringVar()\n",
    "result_label = tk.Label(root, textvariable=result)\n",
    "result_label.pack()\n",
    "\n",
    "# Button to calculate area and perimeter based on selected shape\n",
    "def calculate():\n",
    "    shape = shape_var.get()\n",
    "    \n",
    "    try:\n",
    "        if shape == \"Circle\":\n",
    "            calculate_circle()\n",
    "        elif shape == \"Square\":\n",
    "            calculate_square()\n",
    "        elif shape == \"Triangle\":\n",
    "            calculate_triangle()\n",
    "        elif shape == \"Ellipse\":\n",
    "            calculate_ellipse()\n",
    "        else:\n",
    "            messagebox.showerror(\"Error\", \"Invalid shape selected.\")\n",
    "    except ValueError:\n",
    "        messagebox.showerror(\"Error\", \"Please enter valid numbers.\")\n",
    "\n",
    "calculate_button = tk.Button(root, text=\"Calculate\", command=calculate)\n",
    "calculate_button.pack()\n",
    "\n",
    "# Run the application\n",
    "root.mainloop()\n"
   ]
  },
  {
   "cell_type": "raw",
   "id": "674c5aa2-e342-4cae-8d7e-a1eab9003635",
   "metadata": {},
   "source": []
  },
  {
   "cell_type": "code",
   "execution_count": null,
   "id": "f6d96d1d-2158-427a-8443-816a5dd49e7e",
   "metadata": {},
   "outputs": [],
   "source": []
  },
  {
   "cell_type": "code",
   "execution_count": null,
   "id": "cebf8a76-0dd2-414c-8e11-ff25c8878843",
   "metadata": {},
   "outputs": [],
   "source": [
    "Program 6: multiplication_table"
   ]
  },
  {
   "cell_type": "code",
   "execution_count": 38,
   "id": "d161d1e0-ee88-41f6-95eb-dbe2e73de2c0",
   "metadata": {},
   "outputs": [
    {
     "name": "stdout",
     "output_type": "stream",
     "text": [
      " 1\t 2\t 3\t 4\t 5\t 6\t 7\t 8\t 9\t 10\t\n",
      "\n",
      " 2\t 4\t 6\t 8\t 10\t 12\t 14\t 16\t 18\t 20\t\n",
      "\n",
      " 3\t 6\t 9\t 12\t 15\t 18\t 21\t 24\t 27\t 30\t\n",
      "\n",
      " 4\t 8\t 12\t 16\t 20\t 24\t 28\t 32\t 36\t 40\t\n",
      "\n",
      " 5\t 10\t 15\t 20\t 25\t 30\t 35\t 40\t 45\t 50\t\n",
      "\n",
      " 6\t 12\t 18\t 24\t 30\t 36\t 42\t 48\t 54\t 60\t\n",
      "\n",
      " 7\t 14\t 21\t 28\t 35\t 42\t 49\t 56\t 63\t 70\t\n",
      "\n",
      " 8\t 16\t 24\t 32\t 40\t 48\t 56\t 64\t 72\t 80\t\n",
      "\n",
      " 9\t 18\t 27\t 36\t 45\t 54\t 63\t 72\t 81\t 90\t\n",
      "\n",
      " 10\t 20\t 30\t 40\t 50\t 60\t 70\t 80\t 90\t 100\t\n",
      "\n"
     ]
    }
   ],
   "source": [
    "def multiplication_table():\n",
    "   \n",
    "    for i in range(1, 11):\n",
    "        for j in range(1, 11):\n",
    "            print(f\" {i * j}\", end=\"\\t\")\n",
    "        print()\n",
    "        print()\n",
    "\n",
    "multiplication_table()"
   ]
  },
  {
   "cell_type": "code",
   "execution_count": null,
   "id": "de0bca85-cd62-434c-9a2a-d0ffc252f361",
   "metadata": {},
   "outputs": [],
   "source": []
  },
  {
   "cell_type": "code",
   "execution_count": 40,
   "id": "c7ecd394-6508-48cf-ba56-7da7a4d08a6d",
   "metadata": {},
   "outputs": [
    {
     "name": "stdout",
     "output_type": "stream",
     "text": [
      "╒═════╤═════╤═════╤═════╤═════╤═════╤═════╤═════╤═════╤══════╕\n",
      "│   1 │   2 │   3 │   4 │   5 │   6 │   7 │   8 │   9 │   10 │\n",
      "╞═════╪═════╪═════╪═════╪═════╪═════╪═════╪═════╪═════╪══════╡\n",
      "│   1 │   2 │   3 │   4 │   5 │   6 │   7 │   8 │   9 │   10 │\n",
      "├─────┼─────┼─────┼─────┼─────┼─────┼─────┼─────┼─────┼──────┤\n",
      "│   2 │   4 │   6 │   8 │  10 │  12 │  14 │  16 │  18 │   20 │\n",
      "├─────┼─────┼─────┼─────┼─────┼─────┼─────┼─────┼─────┼──────┤\n",
      "│   3 │   6 │   9 │  12 │  15 │  18 │  21 │  24 │  27 │   30 │\n",
      "├─────┼─────┼─────┼─────┼─────┼─────┼─────┼─────┼─────┼──────┤\n",
      "│   4 │   8 │  12 │  16 │  20 │  24 │  28 │  32 │  36 │   40 │\n",
      "├─────┼─────┼─────┼─────┼─────┼─────┼─────┼─────┼─────┼──────┤\n",
      "│   5 │  10 │  15 │  20 │  25 │  30 │  35 │  40 │  45 │   50 │\n",
      "├─────┼─────┼─────┼─────┼─────┼─────┼─────┼─────┼─────┼──────┤\n",
      "│   6 │  12 │  18 │  24 │  30 │  36 │  42 │  48 │  54 │   60 │\n",
      "├─────┼─────┼─────┼─────┼─────┼─────┼─────┼─────┼─────┼──────┤\n",
      "│   7 │  14 │  21 │  28 │  35 │  42 │  49 │  56 │  63 │   70 │\n",
      "├─────┼─────┼─────┼─────┼─────┼─────┼─────┼─────┼─────┼──────┤\n",
      "│   8 │  16 │  24 │  32 │  40 │  48 │  56 │  64 │  72 │   80 │\n",
      "├─────┼─────┼─────┼─────┼─────┼─────┼─────┼─────┼─────┼──────┤\n",
      "│   9 │  18 │  27 │  36 │  45 │  54 │  63 │  72 │  81 │   90 │\n",
      "├─────┼─────┼─────┼─────┼─────┼─────┼─────┼─────┼─────┼──────┤\n",
      "│  10 │  20 │  30 │  40 │  50 │  60 │  70 │  80 │  90 │  100 │\n",
      "╘═════╧═════╧═════╧═════╧═════╧═════╧═════╧═════╧═════╧══════╛\n"
     ]
    }
   ],
   "source": [
    "from tabulate import tabulate\n",
    "\n",
    "def generate_multiplication_table():\n",
    "    \n",
    "    table = []\n",
    "    for i in range(1, 11):\n",
    "        row = []\n",
    "        for j in range(1, 11):\n",
    "            row.append(i * j)\n",
    "        table.append(row)\n",
    "    \n",
    "    \n",
    "    headers = [f'{i}' for i in range(1, 11)] \n",
    "    return tabulate(table, headers, tablefmt=\"fancy_grid\")\n",
    "\n",
    "\n",
    "print(generate_multiplication_table())\n"
   ]
  },
  {
   "cell_type": "code",
   "execution_count": null,
   "id": "8191243b-93d7-4a5e-b332-4bbdd24f2dfd",
   "metadata": {},
   "outputs": [],
   "source": []
  },
  {
   "cell_type": "code",
   "execution_count": 44,
   "id": "0d86b090-746d-4bd6-9b7f-1816ed505423",
   "metadata": {},
   "outputs": [
    {
     "data": {
      "image/png": "[encoded data removed]",
      "text/plain": [
       "<Figure size 640x480 with 1 Axes>"
      ]
     },
     "metadata": {},
     "output_type": "display_data"
    }
   ],
   "source": [
    "import matplotlib.pyplot as plt\n",
    "import numpy as np\n",
    "\n",
    "def draw_multiplication_table(n):\n",
    "    # Generate the multiplication table data\n",
    "    data = np.array([[i * j for j in range(1, n+1)] for i in range(1, n+1)])\n",
    "\n",
    "    # Create a figure and a set of subplots\n",
    "    fig, ax = plt.subplots()\n",
    "\n",
    "    # Hide axes\n",
    "    ax.xaxis.set_visible(False)\n",
    "    ax.yaxis.set_visible(False)\n",
    "    ax.set_frame_on(False)\n",
    "\n",
    "    # Create the table\n",
    "    table = ax.table(cellText=data, \n",
    "                     rowLabels=range(1, n+1), \n",
    "                     colLabels=range(1, n+1), \n",
    "                     cellLoc='center', \n",
    "                     loc='center'\n",
    "                    )\n",
    "\n",
    "    # Set the font size\n",
    "    table.auto_set_font_size(False)\n",
    "    table.set_fontsize(13)\n",
    "\n",
    "    # Adjust table properties\n",
    "    table.scale(1.2, 1.2)  # Scale the table for better visibility\n",
    "\n",
    "    # Display the table\n",
    "    plt.show()\n",
    "\n",
    "# Call the function with the size of the table\n",
    "draw_multiplication_table(10)\n"
   ]
  },
  {
   "cell_type": "markdown",
   "id": "ec01f3a8-b54f-4d2a-a62f-a2af2bc8cc54",
   "metadata": {},
   "source": [
    "Program 7: Prime Nmbers"
   ]
  },
  {
   "cell_type": "code",
   "execution_count": 79,
   "id": "266da2db-a381-47c2-a9c0-bc25c441b176",
   "metadata": {},
   "outputs": [
    {
     "name": "stdin",
     "output_type": "stream",
     "text": [
      "please enter a number: 45\n"
     ]
    },
    {
     "name": "stdout",
     "output_type": "stream",
     "text": [
      "45.0 is not a prime\n"
     ]
    }
   ],
   "source": [
    "def prime(num):\n",
    "    \n",
    "    flag = False\n",
    "    if num <= 1.0 : \n",
    "        print(f\"{num} is not a prime\")\n",
    "        return\n",
    "        \n",
    "    elif num >1:\n",
    "        for i in range(2, int(num**0.5) +1):\n",
    "            if num % i == 0:\n",
    "                flag = True\n",
    "                break\n",
    "                \n",
    "    if flag:\n",
    "         print(f\"{num} is not a prime\")\n",
    "    else:\n",
    "         print(f\"{num} is a prime number\")\n",
    "\n",
    "\n",
    "num = float(input(\"please enter a number:\"))\n",
    "prime(num)        "
   ]
  },
  {
   "cell_type": "markdown",
   "id": "9a571aad-2851-45c5-85b7-ad2058b5295e",
   "metadata": {},
   "source": [
    "Program 8: Print prime numbers in  a range "
   ]
  },
  {
   "cell_type": "code",
   "execution_count": 85,
   "id": "23bbe666-54a8-42b6-bf07-f72006e9de32",
   "metadata": {},
   "outputs": [
    {
     "name": "stdin",
     "output_type": "stream",
     "text": [
      "please enter start number:  45\n",
      "please enter end number:  78\n"
     ]
    },
    {
     "name": "stdout",
     "output_type": "stream",
     "text": [
      "Prime numbers between 45 and 78 are: 47, 53, 59, 61, 67, 71, 73\n"
     ]
    }
   ],
   "source": [
    "def generate_prime_numbers(num):\n",
    "    if num <= 1:\n",
    "        return False\n",
    "    \n",
    "    for i in range(2, int(num**0.5) +1):\n",
    "        if num % i == 0:\n",
    "            return False\n",
    "    return True\n",
    "\n",
    "start = int(input(\"please enter start number: \"))\n",
    "end = int(input(\"please enter end number: \"))\n",
    "\n",
    "prime_numbers = []  # List to store prime numbers\n",
    "\n",
    "for i in range(start, end + 1):\n",
    "    if generate_prime_numbers(i):\n",
    "        prime_numbers.append(i)  # Append prime numbers to the list\n",
    "\n",
    "# Print all prime numbers in a single row with ',' as seprator\n",
    "print(f\"Prime numbers between {start} and {end} are: {', '.join(map(str, prime_numbers))}\")\n",
    "\n"
   ]
  },
  {
   "cell_type": "code",
   "execution_count": null,
   "id": "d5c8cc48-e277-4cbf-8bde-c4fa54e28b94",
   "metadata": {},
   "outputs": [],
   "source": []
  },
  {
   "cell_type": "code",
   "execution_count": null,
   "id": "2c522212-fe22-422d-a540-c12e2ee5d576",
   "metadata": {},
   "outputs": [],
   "source": []
  },
  {
   "cell_type": "markdown",
   "id": "fa83d9f7-6a33-4bce-856f-df8bf82e540c",
   "metadata": {},
   "source": [
    "Program 9: Factorial(use defoalt function)"
   ]
  },
  {
   "cell_type": "code",
   "execution_count": 118,
   "id": "48d29405-4735-41d6-a682-34c4aa85dd3f",
   "metadata": {},
   "outputs": [
    {
     "name": "stdin",
     "output_type": "stream",
     "text": [
      "please enter a number:  -12\n"
     ]
    },
    {
     "name": "stdout",
     "output_type": "stream",
     "text": [
      "Invalid input. Please enter a valid integer.\n"
     ]
    },
    {
     "name": "stdin",
     "output_type": "stream",
     "text": [
      "please enter a number:  31\n"
     ]
    },
    {
     "name": "stdout",
     "output_type": "stream",
     "text": [
      "8222838654177922817725562880000000\n"
     ]
    }
   ],
   "source": [
    "import math\n",
    "\n",
    "def fact():\n",
    "    while True:\n",
    "        try:\n",
    "            print(math.factorial(int(input(\"please enter a number: \"))))\n",
    "            break\n",
    "        except ValueError:\n",
    "            print(\"Invalid input. Please enter a valid integer.\")\n",
    "        return fact()\n",
    "\n",
    "fact()"
   ]
  },
  {
   "cell_type": "code",
   "execution_count": null,
   "id": "8b2e2395-3b01-4104-ad45-ce4205404529",
   "metadata": {},
   "outputs": [],
   "source": []
  },
  {
   "cell_type": "markdown",
   "id": "0592b315-1510-458d-9f2b-000cac6a3fba",
   "metadata": {},
   "source": [
    "Program 10: Factorial(use an iterative approach)"
   ]
  },
  {
   "cell_type": "code",
   "execution_count": 144,
   "id": "80933503-9a2e-4d26-8c1f-510534ff2074",
   "metadata": {},
   "outputs": [
    {
     "name": "stdin",
     "output_type": "stream",
     "text": [
      "Please enter a non-negative integer:  -4\n"
     ]
    },
    {
     "name": "stdout",
     "output_type": "stream",
     "text": [
      "Factorial is not defined for negative numbers.\n"
     ]
    },
    {
     "name": "stdin",
     "output_type": "stream",
     "text": [
      "Please enter a non-negative integer:  5\n"
     ]
    },
    {
     "name": "stdout",
     "output_type": "stream",
     "text": [
      "The factorial of 5 is 120.\n"
     ]
    }
   ],
   "source": [
    "def factoriall(n):\n",
    "    \"\"\"Calculate the factorial of a non-negative integer n.\"\"\"\n",
    "    if n < 0:\n",
    "        raise ValueError(\"Factorial is not defined for negative numbers.\")\n",
    "    \n",
    "    fact = 1\n",
    "    for i in range(2, n + 1):\n",
    "        fact *= i\n",
    "    \n",
    "    return fact\n",
    "\n",
    "def main():\n",
    "    while True:\n",
    "        try:\n",
    "            num = int(input(\"Please enter a non-negative integer: \"))\n",
    "            if num < 0:\n",
    "                print(\"Factorial is not defined for negative numbers.\")\n",
    "                continue  # Prompt again for a valid input\n",
    "            \n",
    "            result = factorial(num)\n",
    "            print(f\"The factorial of {num} is {result}.\")\n",
    "            break  # Exit loop after successful computation\n",
    "        \n",
    "        except ValueError as ve:\n",
    "            print(f\"Invalid input: {ve}. Please enter a valid integer.\")\n",
    "\n",
    "# Run the main function\n",
    "main()"
   ]
  },
  {
   "cell_type": "markdown",
   "id": "b487a902-a55c-467e-a813-eb1781645f77",
   "metadata": {},
   "source": [
    " Program 11: Factorial, more profesinal(recursive approach)"
   ]
  },
  {
   "cell_type": "code",
   "execution_count": 166,
   "id": "4c952dd6-4c20-47a4-8c77-1621c27fbb01",
   "metadata": {},
   "outputs": [
    {
     "name": "stdin",
     "output_type": "stream",
     "text": [
      "Please enter a non-negative integer:  -7\n"
     ]
    },
    {
     "name": "stdout",
     "output_type": "stream",
     "text": [
      "Factorial is not defined for negative numbers.\n"
     ]
    },
    {
     "name": "stdin",
     "output_type": "stream",
     "text": [
      "Please enter a non-negative integer:  4\n"
     ]
    },
    {
     "name": "stdout",
     "output_type": "stream",
     "text": [
      "The factorial of 4 is 24.\n"
     ]
    }
   ],
   "source": [
    "def factorial(n):\n",
    "    \"\"\"Calculate the factorial of a non-negative integer n using recursion.\"\"\"\n",
    "    if n < 0:\n",
    "        raise ValueError(\"Factorial is not defined for negative numbers.\")\n",
    "    if n == 0 or n == 1:\n",
    "        return 1\n",
    "    return n * factorial(n - 1) # Using recursive approach \n",
    "\n",
    "def main():\n",
    "    while True:\n",
    "        try:\n",
    "            num = int(input(\"Please enter a non-negative integer: \"))\n",
    "            if num < 0:\n",
    "                print(\"Factorial is not defined for negative numbers.\")\n",
    "                continue  # Prompt again for a valid input\n",
    "            \n",
    "            result = factorial(num)\n",
    "            print(f\"The factorial of {num} is {result}.\")\n",
    "            break  # Exit loop after successful computation\n",
    "        \n",
    "        except ValueError:\n",
    "            print(\"Invalid input. Please enter a valid integer.\")\n",
    "\n",
    "# Run the main function\n",
    "if __name__ == \"__main__\":\n",
    "    main()\n"
   ]
  },
  {
   "cell_type": "code",
   "execution_count": null,
   "id": "325c8c40-96d6-4280-80fc-3df3fc1fd100",
   "metadata": {},
   "outputs": [],
   "source": []
  }
 ],
 "metadata": {
  "kernelspec": {
   "display_name": "Python 3 (ipykernel)",
   "language": "python",
   "name": "python3"
  },
  "language_info": {
   "codemirror_mode": {
    "name": "ipython",
    "version": 3
   },
   "file_extension": ".py",
   "mimetype": "text/x-python",
   "name": "python",
   "nbconvert_exporter": "python",
   "pygments_lexer": "ipython3",
   "version": "3.11.5"
  }
 },
 "nbformat": 4,
 "nbformat_minor": 5
}
